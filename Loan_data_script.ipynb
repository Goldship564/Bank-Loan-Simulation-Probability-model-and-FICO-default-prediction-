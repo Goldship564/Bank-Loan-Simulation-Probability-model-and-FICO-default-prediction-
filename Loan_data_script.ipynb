{
 "cells": [
  {
   "cell_type": "code",
   "execution_count": 1,
   "metadata": {},
   "outputs": [],
   "source": [
    "import pandas as pd\n",
    "import numpy as np\n",
    "from sklearn.model_selection import train_test_split\n",
    "from sklearn.preprocessing import StandardScaler\n",
    "from sklearn.linear_model import LogisticRegression\n",
    "from sklearn.metrics import accuracy_score, classification_report\n"
   ]
  },
  {
   "cell_type": "code",
   "execution_count": 2,
   "metadata": {},
   "outputs": [],
   "source": [
    "# Load the data\n",
    "data = pd.read_csv('Loan_Data.csv')"
   ]
  },
  {
   "cell_type": "code",
   "execution_count": 3,
   "metadata": {},
   "outputs": [
    {
     "name": "stdout",
     "output_type": "stream",
     "text": [
      "Model Accuracy: 1.00\n",
      "              precision    recall  f1-score   support\n",
      "\n",
      "           0       1.00      1.00      1.00      1652\n",
      "           1       0.99      0.98      0.99       348\n",
      "\n",
      "    accuracy                           1.00      2000\n",
      "   macro avg       0.99      0.99      0.99      2000\n",
      "weighted avg       1.00      1.00      1.00      2000\n",
      "\n"
     ]
    }
   ],
   "source": [
    "# Select features and target\n",
    "features = ['credit_lines_outstanding', 'loan_amt_outstanding', 'total_debt_outstanding', \n",
    "            'income', 'years_employed', 'fico_score']\n",
    "X = data[features]\n",
    "y = data['default']\n",
    "\n",
    "# Split the data\n",
    "X_train, X_test, y_train, y_test = train_test_split(X, y, test_size=0.2, random_state=42)\n",
    "\n",
    "# Scale the features\n",
    "scaler = StandardScaler()\n",
    "X_train_scaled = scaler.fit_transform(X_train)\n",
    "X_test_scaled = scaler.transform(X_test)\n",
    "\n",
    "# Train the logistic regression model\n",
    "model = LogisticRegression(random_state=42)\n",
    "model.fit(X_train_scaled, y_train)\n",
    "\n",
    "# Evaluate the model\n",
    "y_pred = model.predict(X_test_scaled)\n",
    "accuracy = accuracy_score(y_test, y_pred)\n",
    "print(f\"Model Accuracy: {accuracy:.2f}\")\n",
    "print(classification_report(y_test, y_pred))"
   ]
  },
  {
   "cell_type": "code",
   "execution_count": 5,
   "metadata": {},
   "outputs": [
    {
     "name": "stdout",
     "output_type": "stream",
     "text": [
      "Probability of Default: 0.00%\n",
      "Expected Loss: $0.20\n"
     ]
    },
    {
     "name": "stderr",
     "output_type": "stream",
     "text": [
      "C:\\Users\\joshu\\AppData\\Local\\Packages\\PythonSoftwareFoundation.Python.3.12_qbz5n2kfra8p0\\LocalCache\\local-packages\\Python312\\site-packages\\sklearn\\base.py:493: UserWarning: X does not have valid feature names, but StandardScaler was fitted with feature names\n",
      "  warnings.warn(\n"
     ]
    }
   ],
   "source": [
    "def calculate_expected_loss(credit_lines_outstanding, loan_amt_outstanding, total_debt_outstanding, \n",
    "                            income, years_employed, fico_score, loan_amount, recovery_rate=0.1):\n",
    "    # Prepare the input data\n",
    "    input_data = np.array([[credit_lines_outstanding, loan_amt_outstanding, total_debt_outstanding, \n",
    "                            income, years_employed, fico_score]])\n",
    "    input_data_scaled = scaler.transform(input_data)\n",
    "    \n",
    "    # Predict probability of default\n",
    "    pd = model.predict_proba(input_data_scaled)[0][1]\n",
    "    \n",
    "    # Calculate expected loss\n",
    "    lgd = 1 - recovery_rate\n",
    "    ead = loan_amount\n",
    "    expected_loss = pd * lgd * ead\n",
    "    \n",
    "    return expected_loss, pd\n",
    "\n",
    "# Example usage\n",
    "credit_lines_outstanding = 2\n",
    "loan_amt_outstanding = 5000\n",
    "total_debt_outstanding = 10000\n",
    "income = 75000\n",
    "years_employed = 5\n",
    "fico_score = 650\n",
    "loan_amount = 20000\n",
    "\n",
    "expected_loss, pd = calculate_expected_loss(credit_lines_outstanding, loan_amt_outstanding, total_debt_outstanding, income, years_employed, fico_score, loan_amount)\n",
    "\n",
    "print(f\"Probability of Default: {pd:.2%}\")\n",
    "print(f\"Expected Loss: ${expected_loss:.2f}\")"
   ]
  }
 ],
 "metadata": {
  "kernelspec": {
   "display_name": "Python 3",
   "language": "python",
   "name": "python3"
  },
  "language_info": {
   "codemirror_mode": {
    "name": "ipython",
    "version": 3
   },
   "file_extension": ".py",
   "mimetype": "text/x-python",
   "name": "python",
   "nbconvert_exporter": "python",
   "pygments_lexer": "ipython3",
   "version": "3.12.4"
  }
 },
 "nbformat": 4,
 "nbformat_minor": 2
}
